{
 "cells": [
  {
   "cell_type": "code",
   "execution_count": 1,
   "id": "c4e855f9",
   "metadata": {},
   "outputs": [],
   "source": [
    "import mysql.connector"
   ]
  },
  {
   "cell_type": "code",
   "execution_count": 2,
   "id": "44dc7ed6",
   "metadata": {},
   "outputs": [],
   "source": [
    "import os"
   ]
  },
  {
   "cell_type": "code",
   "execution_count": 3,
   "id": "5ce62b60",
   "metadata": {},
   "outputs": [],
   "source": [
    "cnx = mysql.connector.connect(user = 'root', password = '', host = '127.0.0.1', database = 'ADBMS_LAB10')\n"
   ]
  },
  {
   "cell_type": "code",
   "execution_count": 4,
   "id": "05ff09c7",
   "metadata": {},
   "outputs": [],
   "source": [
    "cur = cnx.cursor()\n"
   ]
  },
  {
   "cell_type": "code",
   "execution_count": 7,
   "id": "dec9c668",
   "metadata": {},
   "outputs": [],
   "source": [
    "class Movie:\n",
    "    def _init_(self, name, release_date, director, cast, description):\n",
    "        self.name = name\n",
    "        self.release_date = release_date\n",
    "        self.director = director\n",
    "        self.cast = cast\n",
    "        self.description = description\n",
    "        \n",
    "    def save(self):\n",
    "        conn = mysql.connector.connect(\n",
    "            host='127.0.0.1',\n",
    "            user='root',\n",
    "            password='',\n",
    "            database=\"movie_booking\"\n",
    "        )\n",
    "        cursor = conn.cursor()\n",
    "        query = \"INSERT INTO movies (name, release_date, director, cast, description) VALUES (%s, %s, %s, %s, %s)\"\n",
    "        values = (self.name, self.release_date, self.director, self.cast, self.description)\n",
    "        cursor.execute(query, values)\n",
    "        conn.commit()\n",
    "        conn.close()"
   ]
  },
  {
   "cell_type": "code",
   "execution_count": 8,
   "id": "02749a0e",
   "metadata": {},
   "outputs": [],
   "source": [
    "class Theater:\n",
    "    def _init_(self, name, city):\n",
    "        self.name = name\n",
    "        self.city = city\n",
    "\n",
    "    def save(self):\n",
    "        conn = mysql.connector.connect(\n",
    "            host='127.0.0.1',\n",
    "            user='root',\n",
    "            password='',\n",
    "            database=\"movie_booking\"\n",
    "        )\n",
    "        cursor = conn.cursor()\n",
    "        query = \"INSERT INTO theaters (name, city) VALUES (%s, %s)\"\n",
    "        values = (self.name, self.city)\n",
    "        cursor.execute(query, values)\n",
    "        conn.commit()\n",
    "        conn.close()\n"
   ]
  },
  {
   "cell_type": "code",
   "execution_count": 9,
   "id": "573f99a1",
   "metadata": {},
   "outputs": [],
   "source": [
    "class Screen:\n",
    "    def _init_(self, name, theater_id):\n",
    "        self.name = name\n",
    "        self.theater_id = theater_id\n",
    "\n",
    "    def save(self):\n",
    "        conn = mysql.connector.connect(\n",
    "            host='127.0.0.1',\n",
    "            user='root',\n",
    "            password='',\n",
    "            database=\"movie_booking\"\n",
    "        )\n",
    "        cursor = conn.cursor()\n",
    "        query = \"INSERT INTO screens (name, theater_id) VALUES (%s, %s)\"\n",
    "        values = (self.name, self.theater_id)\n",
    "        cursor.execute(query, values)\n",
    "        conn.commit()\n",
    "        conn.close()\n"
   ]
  },
  {
   "cell_type": "code",
   "execution_count": 10,
   "id": "c1962a3d",
   "metadata": {},
   "outputs": [],
   "source": [
    "class Booking:\n",
    "    def init(self, movie_id, theater_id, screen_id, user_name, booking_time):\n",
    "        self.movie_id = movie_id\n",
    "        self.theater_id = theater_id\n",
    "        self.screen_id = screen_id\n",
    "        self.user_name = user_name\n",
    "        self.booking_time = booking_time\n",
    "    def save(self):\n",
    "        conn = mysql.connector.connect(\n",
    "            host='127.0.0.1',\n",
    "            user='root',\n",
    "            password='',\n",
    "            database=\"movie_booking\"\n",
    "        )\n",
    "        cursor = conn.cursor()\n",
    "        query = \"INSERT INTO bookings (movie_id, theater_id, screen_id, user_name, booking_time) VALUES (%s, %s, %s, %s, %s)\"\n",
    "        values = (self.movie_id, self.theater_id, self.screen_id, self.user_name, self.booking_time)\n",
    "        cursor.execute(query, values)\n",
    "        conn.commit()\n",
    "        conn.close()\n",
    "    def cancel(self):\n",
    "        conn = mysql.connector.connect(\n",
    "            host=\"localhost\",\n",
    "            user=\"yourusername\",\n",
    "            password=\"yourpassword\",\n",
    "            database=\"movie_booking\"\n",
    "        )\n",
    "        cursor = conn.cursor()\n",
    "        query = \"DELETE FROM bookings WHERE movie_id = %s AND theater_id = %s AND screen_id = %s AND user_name = %s AND booking_time = %s\"\n",
    "        values = (self.movie_id, self.theater_id, self.screen_id, self.user_name, self.booking_time)\n",
    "        cursor.execute(query, values)\n",
    "        conn.commit()\n",
    "        conn.close()"
   ]
  },
  {
   "cell_type": "code",
   "execution_count": 11,
   "id": "9c40f94c",
   "metadata": {},
   "outputs": [],
   "source": [
    "def view_data():\n",
    "    conn = mysql.connector.connect(\n",
    "        host=\"localhost\",\n",
    "        user=\"yourusername\",\n",
    "        password=\"yourpassword\",\n",
    "        database=\"movie_booking\"\n",
    "    )\n",
    "    cursor = conn.cursor()\n",
    "    cursor.execute(\"SELECT * FROM bookings\")\n",
    "    rows = cursor.fetchall()\n",
    "    for row in rows:\n",
    "        print(row)\n",
    "    conn.close()\n"
   ]
  },
  {
   "cell_type": "code",
   "execution_count": 12,
   "id": "75a3a289",
   "metadata": {},
   "outputs": [],
   "source": [
    "def main():\n",
    "    print(\"Welcome to the movie booking system.\")\n",
    "    while True:\n",
    "        print(\"Please choose an option:\")\n",
    "        print(\"1. Add movie\")\n",
    "        print(\"2. Add theater\")\n",
    "        print(\"3. Add screen\")\n",
    "        print(\"4. Book ticket\")\n",
    "        print(\"5. Cancel ticket\")\n",
    "        print(\"6. View data\")\n",
    "        print(\"7. Quit\")\n",
    "\n",
    "        choice = input()\n",
    "\n",
    "        if choice == \"1\":\n",
    "            name = input(\"Enter movie name: \")\n",
    "            release_date = input(\"Enter release date (YYYY-MM-DD): \")\n",
    "            director = input(\"Enter director name: \")\n",
    "            cast = input(\"Enter cast members (comma separated): \")\n",
    "            description = input(\"Enter movie description: \")\n",
    "            movie = Movie(name, release_date, director, cast, description)\n",
    "            movie.save()\n",
    "            print(\"Movie added successfully.\")\n",
    "        elif choice == \"2\":\n",
    "            name = input(\"Enter theater name: \")\n",
    "            city = input(\"Enter city name: \")\n",
    "            theater = Theater(name, city)\n",
    "            theater.save()\n",
    "            print(\"Theater added successfully.\")\n",
    "        elif choice == \"3\":\n",
    "            name = input(\"Enter screen name: \")\n",
    "            theater_id = input(\"Enter theater ID: \")\n",
    "            screen = Screen(name, theater_id)\n",
    "            screen.save()\n",
    "            print(\"Screen added successfully.\")\n",
    "        elif choice == \"4\":\n",
    "            movie_id = input(\"Enter movie ID: \")\n",
    "            theater_id = input(\"Enter theater ID: \")\n",
    "            screen_id = input(\"Enter screen ID: \")\n",
    "            user_name = input(\"Enter user name: \")\n",
    "            booking_time = input(\"Enter booking time (YYYY-MM-DD HH:MM:SS): \")\n",
    "            booking = Booking(movie_id, theater_id, screen_id, user_name, booking_time)\n",
    "            booking.save()\n",
    "            print(\"Booking successful.\")\n",
    "        elif choice == \"5\":\n",
    "            movie_id = input(\"Enter movie ID: \")\n",
    "            theater_id = input(\"Enter theater ID: \")\n",
    "            screen_id = input(\"Enter screen ID: \")\n",
    "            user_name = input(\"Enter user name: \")\n",
    "            booking_time = input(\"Enter booking time (YYYY-MM-DD HH:MM:SS): \")\n",
    "            booking = Booking(movie_id, theater_id, screen_id, user_name, booking_time)\n",
    "            booking.cancel()\n",
    "            print(\"Booking cancelled successfully.\")\n",
    "        elif choice == \"6\":\n",
    "            view_data()\n",
    "        elif choice == \"7\":\n",
    "            print(\"Thank you for using the movie booking system.\")\n",
    "            break\n",
    "        else:\n",
    "            print(\"Invalid choice. Please try again.\")\n"
   ]
  },
  {
   "cell_type": "code",
   "execution_count": null,
   "id": "a2025723",
   "metadata": {},
   "outputs": [],
   "source": [
    "#main()"
   ]
  },
  {
   "cell_type": "code",
   "execution_count": null,
   "id": "f942df2c",
   "metadata": {},
   "outputs": [],
   "source": [
    "cur.execute('''\n",
    "CREATE DATABASE IF NOT EXISTS movie_booking;"
   ]
  },
  {
   "cell_type": "code",
   "execution_count": null,
   "id": "7b5e3170",
   "metadata": {},
   "outputs": [],
   "source": [
    "USE movie_booking;"
   ]
  },
  {
   "cell_type": "code",
   "execution_count": null,
   "id": "ef9b3fbc",
   "metadata": {},
   "outputs": [],
   "source": [
    "CREATE TABLE  IF NOT EXISTS movies (\n",
    "    id INT AUTO_INCREMENT PRIMARY KEY,\n",
    "    name VARCHAR(255) NOT NULL,\n",
    "    release_date DATE NOT NULL,\n",
    "    director VARCHAR(255) NOT NULL,\n",
    "    cast VARCHAR(255) NOT NULL,\n",
    "    description TEXT NOT NULL\n",
    ");"
   ]
  },
  {
   "cell_type": "code",
   "execution_count": null,
   "id": "d5766ca9",
   "metadata": {},
   "outputs": [],
   "source": [
    "CREATE TABLE IF NOT EXISTS theaters (\n",
    "    id INT AUTO_INCREMENT PRIMARY KEY,\n",
    "    name VARCHAR(255) NOT NULL,\n",
    "    city VARCHAR(255) NOT NULL\n",
    ");"
   ]
  },
  {
   "cell_type": "code",
   "execution_count": null,
   "id": "76d2aa23",
   "metadata": {},
   "outputs": [],
   "source": [
    "CREATE TABLE IF NOT EXISTS Screens (\n",
    "    name VARCHAR(255) NOT NULL,\n",
    "    theater_id INT NOT NULL,\n",
    "    FOREIGN KEY (theater_id) REFERENCES theaters(id)\n",
    ");"
   ]
  },
  {
   "cell_type": "code",
   "execution_count": null,
   "id": "4b9c10a7",
   "metadata": {},
   "outputs": [],
   "source": [
    "CREATE TABLE IF NOT EXISTS bookings (\n",
    "    id INT AUTO_INCREMENT PRIMARY KEY,\n",
    "    movie_id INT NOT NULL,\n",
    "    theater_id INT NOT NULL,\n",
    "    screen_id INT NOT NULL,\n",
    "    user_name VARCHAR(255) NOT NULL,\n",
    "    booking_time DATETIME NOT NULL,\n",
    "    FOREIGN KEY (movie_id) REFERENCES movies(id),\n",
    "    FOREIGN KEY (theater_id) REFERENCES theaters(id),\n",
    "    FOREIGN KEY (screen_id) REFERENCES screens(id)\n",
    ");''')"
   ]
  }
 ],
 "metadata": {
  "kernelspec": {
   "display_name": "Python 3 (ipykernel)",
   "language": "python",
   "name": "python3"
  },
  "language_info": {
   "codemirror_mode": {
    "name": "ipython",
    "version": 3
   },
   "file_extension": ".py",
   "mimetype": "text/x-python",
   "name": "python",
   "nbconvert_exporter": "python",
   "pygments_lexer": "ipython3",
   "version": "3.11.3"
  }
 },
 "nbformat": 4,
 "nbformat_minor": 5
}
