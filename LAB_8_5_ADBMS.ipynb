{
 "cells": [
  {
   "cell_type": "code",
   "execution_count": 1,
   "id": "3aabab2c",
   "metadata": {},
   "outputs": [],
   "source": [
    "import mysql.connector"
   ]
  },
  {
   "cell_type": "code",
   "execution_count": 2,
   "id": "fd0afffe",
   "metadata": {},
   "outputs": [],
   "source": [
    "import random"
   ]
  },
  {
   "cell_type": "code",
   "execution_count": 3,
   "id": "38dab3b9",
   "metadata": {},
   "outputs": [],
   "source": [
    "cnx = mysql.connector.connect(user='root', password='', host='localhost', database='LAB1')"
   ]
  },
  {
   "cell_type": "code",
   "execution_count": 4,
   "id": "05293034",
   "metadata": {},
   "outputs": [],
   "source": [
    "cur = cnx.cursor()"
   ]
  },
  {
   "cell_type": "code",
   "execution_count": 5,
   "id": "f69f9ce2",
   "metadata": {},
   "outputs": [],
   "source": [
    "# Create a function to check sabbatical eligibility and return instructor details\n",
    "cur.execute(\"\"\"\n",
    "      CREATE FUNCTION check_sabbatical_eligibility(age INT)\n",
    "      RETURNS VARCHAR(50)\n",
    "      BEGIN\n",
    "        DECLARE result VARCHAR(50);\n",
    "          IF age > 40 THEN\n",
    "          SET result = 'Eligible for sabbatical';\n",
    "        ELSE\n",
    "          SET result = 'Not eligible for sabbatical';\n",
    "        END IF;\n",
    "          RETURN result;\n",
    "        END;\n",
    "      \"\"\")"
   ]
  },
  {
   "cell_type": "code",
   "execution_count": 6,
   "id": "6087e78e",
   "metadata": {},
   "outputs": [],
   "source": [
    "# Call the function to check if it has been successfully created\n",
    "cur.execute(\"SELECT check_sabbatical_eligibility(40)\")"
   ]
  },
  {
   "cell_type": "code",
   "execution_count": null,
   "id": "d7606dcc",
   "metadata": {},
   "outputs": [],
   "source": []
  }
 ],
 "metadata": {
  "kernelspec": {
   "display_name": "Python 3 (ipykernel)",
   "language": "python",
   "name": "python3"
  },
  "language_info": {
   "codemirror_mode": {
    "name": "ipython",
    "version": 3
   },
   "file_extension": ".py",
   "mimetype": "text/x-python",
   "name": "python",
   "nbconvert_exporter": "python",
   "pygments_lexer": "ipython3",
   "version": "3.11.3"
  }
 },
 "nbformat": 4,
 "nbformat_minor": 5
}
