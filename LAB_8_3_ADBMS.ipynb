{
 "cells": [
  {
   "cell_type": "code",
   "execution_count": 1,
   "id": "515dd2a6",
   "metadata": {},
   "outputs": [],
   "source": [
    "import mysql.connector"
   ]
  },
  {
   "cell_type": "code",
   "execution_count": 2,
   "id": "eb4cc8f3",
   "metadata": {},
   "outputs": [],
   "source": [
    "cnx = mysql.connector.connect(user='root', password='', host='localhost', database='LAB1')"
   ]
  },
  {
   "cell_type": "code",
   "execution_count": 3,
   "id": "3e23fc81",
   "metadata": {},
   "outputs": [],
   "source": [
    "cur = cnx.cursor(buffered=True)"
   ]
  },
  {
   "cell_type": "code",
   "execution_count": 5,
   "id": "9de2c9e1",
   "metadata": {},
   "outputs": [],
   "source": [
    "# Create the instructor table if it does not exist\n",
    "cur.execute(\"\"\"\n",
    "CREATE TABLE IF NOT EXISTS instructor10 (\n",
    "  ID INT PRIMARY KEY,\n",
    "  name VARCHAR(255),\n",
    "  dept_name VARCHAR(255),\n",
    "  salary INT,\n",
    "  age INT\n",
    ")\n",
    "\"\"\")"
   ]
  },
  {
   "cell_type": "code",
   "execution_count": 8,
   "id": "2f12e43a",
   "metadata": {},
   "outputs": [],
   "source": [
    "# Add the tuples to the instructor table\n",
    "tuples = [\n",
    "  (10101, 'Srinivasan', 'Comp. Sci.', 65000, 34),\n",
    "  (12121, 'Wu', 'Finance', 90000, 38),\n",
    "  (15151, 'Mozart', 'Music', 40000, 45),\n",
    "  (22222, 'Einstein', 'Physics', 95000, 55)\n",
    "]"
   ]
  },
  {
   "cell_type": "code",
   "execution_count": 9,
   "id": "3a0356a9",
   "metadata": {},
   "outputs": [],
   "source": [
    "query = \"INSERT INTO instructor10 (ID, name, dept_name, salary, age) VALUES (%s, %s, %s, %s, %s)\""
   ]
  },
  {
   "cell_type": "code",
   "execution_count": 10,
   "id": "d986ca6d",
   "metadata": {},
   "outputs": [],
   "source": [
    "cur.executemany(query, tuples)"
   ]
  },
  {
   "cell_type": "code",
   "execution_count": 11,
   "id": "3e225de3",
   "metadata": {},
   "outputs": [],
   "source": [
    "cnx.commit()"
   ]
  },
  {
   "cell_type": "code",
   "execution_count": 12,
   "id": "5f40bf3c",
   "metadata": {},
   "outputs": [
    {
     "name": "stdout",
     "output_type": "stream",
     "text": [
      "Tuples added successfully\n"
     ]
    }
   ],
   "source": [
    "print(\"Tuples added successfully\")"
   ]
  },
  {
   "cell_type": "code",
   "execution_count": 13,
   "id": "bf4c6c22",
   "metadata": {},
   "outputs": [
    {
     "data": {
      "text/plain": [
       "True"
      ]
     },
     "execution_count": 13,
     "metadata": {},
     "output_type": "execute_result"
    }
   ],
   "source": [
    "cur.close()"
   ]
  },
  {
   "cell_type": "code",
   "execution_count": 14,
   "id": "46c0f28b",
   "metadata": {},
   "outputs": [],
   "source": [
    "cnx.close()"
   ]
  },
  {
   "cell_type": "code",
   "execution_count": null,
   "id": "47a91643",
   "metadata": {},
   "outputs": [],
   "source": []
  }
 ],
 "metadata": {
  "kernelspec": {
   "display_name": "Python 3 (ipykernel)",
   "language": "python",
   "name": "python3"
  },
  "language_info": {
   "codemirror_mode": {
    "name": "ipython",
    "version": 3
   },
   "file_extension": ".py",
   "mimetype": "text/x-python",
   "name": "python",
   "nbconvert_exporter": "python",
   "pygments_lexer": "ipython3",
   "version": "3.11.3"
  }
 },
 "nbformat": 4,
 "nbformat_minor": 5
}
