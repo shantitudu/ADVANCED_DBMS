{
 "cells": [
  {
   "cell_type": "code",
   "execution_count": 24,
   "id": "80666080",
   "metadata": {},
   "outputs": [],
   "source": [
    "import mysql.connector"
   ]
  },
  {
   "cell_type": "code",
   "execution_count": 25,
   "id": "2166a4c1",
   "metadata": {},
   "outputs": [],
   "source": [
    "cnx = mysql.connector.connect(user='root', password='', host='localhost', database='LAB1')"
   ]
  },
  {
   "cell_type": "code",
   "execution_count": 26,
   "id": "384df24b",
   "metadata": {},
   "outputs": [],
   "source": [
    "cur = cnx.cursor(buffered=True)\n",
    "cnx.commit()"
   ]
  },
  {
   "cell_type": "code",
   "execution_count": 27,
   "id": "fd2928b4",
   "metadata": {},
   "outputs": [],
   "source": [
    "def print_query(c):\n",
    "    re=c.fetchall()\n",
    "    for x in re:\n",
    "        print(x)"
   ]
  },
  {
   "cell_type": "code",
   "execution_count": 28,
   "id": "773a8bd7",
   "metadata": {},
   "outputs": [],
   "source": [
    "#Given input as salary of three months (jan, feb, march), write a program that returns the total salary for quarter 1 (Q1).\n",
    "cur.execute(\n",
    "    '''\n",
    "CREATE FUNCTION calculate_q1_salary(jan_salary INT, feb_salary INT, mar_salary INT)\n",
    "RETURNS INT\n",
    "BEGIN\n",
    "    DECLARE total_q1_salary INT;\n",
    "    SET total_q1_salary = jan_salary + feb_salary + mar_salary;\n",
    "    RETURN total_q1_salary;\n",
    "END;\n",
    "\n",
    "'''\n",
    "           )"
   ]
  },
  {
   "cell_type": "code",
   "execution_count": 32,
   "id": "e00a7464",
   "metadata": {},
   "outputs": [
    {
     "name": "stdout",
     "output_type": "stream",
     "text": [
      "(4500,)\n"
     ]
    }
   ],
   "source": [
    "cur.execute(\"\"\"SELECT calculate_q1_salary(1000.00, 1500.00, 2000.00) AS q1_salary;\"\"\")\n",
    "print_query(cur)"
   ]
  },
  {
   "cell_type": "code",
   "execution_count": 33,
   "id": "7eb797e6",
   "metadata": {},
   "outputs": [
    {
     "data": {
      "text/plain": [
       "True"
      ]
     },
     "execution_count": 33,
     "metadata": {},
     "output_type": "execute_result"
    }
   ],
   "source": [
    "cur.close()\n"
   ]
  },
  {
   "cell_type": "code",
   "execution_count": 34,
   "id": "f529c8fe",
   "metadata": {},
   "outputs": [],
   "source": [
    "cnx.close()"
   ]
  },
  {
   "cell_type": "code",
   "execution_count": null,
   "id": "e4ae117a",
   "metadata": {},
   "outputs": [],
   "source": []
  }
 ],
 "metadata": {
  "kernelspec": {
   "display_name": "Python 3 (ipykernel)",
   "language": "python",
   "name": "python3"
  },
  "language_info": {
   "codemirror_mode": {
    "name": "ipython",
    "version": 3
   },
   "file_extension": ".py",
   "mimetype": "text/x-python",
   "name": "python",
   "nbconvert_exporter": "python",
   "pygments_lexer": "ipython3",
   "version": "3.11.3"
  }
 },
 "nbformat": 4,
 "nbformat_minor": 5
}
