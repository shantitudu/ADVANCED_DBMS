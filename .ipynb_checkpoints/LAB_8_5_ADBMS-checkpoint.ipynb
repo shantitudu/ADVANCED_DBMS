{
 "cells": [
  {
   "cell_type": "code",
   "execution_count": 13,
   "id": "1beaf378",
   "metadata": {},
   "outputs": [],
   "source": [
    "import mysql.connector"
   ]
  },
  {
   "cell_type": "code",
   "execution_count": 14,
   "id": "90798563",
   "metadata": {},
   "outputs": [],
   "source": [
    "import random"
   ]
  },
  {
   "cell_type": "code",
   "execution_count": 15,
   "id": "6a4dc118",
   "metadata": {},
   "outputs": [],
   "source": [
    "cnx = mysql.connector.connect(user='root', password='', host='localhost', database='LAB1')"
   ]
  },
  {
   "cell_type": "code",
   "execution_count": 16,
   "id": "900b9492",
   "metadata": {},
   "outputs": [],
   "source": [
    "cur = cnx.cursor()"
   ]
  },
  {
   "cell_type": "code",
   "execution_count": 5,
   "id": "e329acb3",
   "metadata": {},
   "outputs": [],
   "source": [
    "# Create a function to check sabbatical eligibility and return instructor details\n",
    "cur.execute(\"\"\"\n",
    "      CREATE FUNCTION check_sabbatical_eligibility(age INT)\n",
    "      RETURNS VARCHAR(50)\n",
    "      BEGIN\n",
    "        DECLARE result VARCHAR(50);\n",
    "          IF age > 40 THEN\n",
    "          SET result = 'Eligible for sabbatical';\n",
    "        ELSE\n",
    "          SET result = 'Not eligible for sabbatical';\n",
    "        END IF;\n",
    "          RETURN result;\n",
    "        END;\n",
    "      \"\"\")"
   ]
  },
  {
   "cell_type": "code",
   "execution_count": 17,
   "id": "37680e7b",
   "metadata": {},
   "outputs": [],
   "source": [
    "# Call the function to check if it has been successfully created\n",
    "cur.execute(\"SELECT check_sabbatical_eligibility(40)\")"
   ]
  },
  {
   "cell_type": "code",
   "execution_count": 18,
   "id": "d255a657",
   "metadata": {},
   "outputs": [
    {
     "name": "stdout",
     "output_type": "stream",
     "text": [
      "Not eligible for sabbatical\n"
     ]
    }
   ],
   "source": [
    "result = cur.fetchone()\n",
    "print(result[0])"
   ]
  },
  {
   "cell_type": "code",
   "execution_count": 19,
   "id": "e670da01",
   "metadata": {},
   "outputs": [],
   "source": [
    "cnx.close()"
   ]
  },
  {
   "cell_type": "code",
   "execution_count": null,
   "id": "15fa1fa3",
   "metadata": {},
   "outputs": [],
   "source": []
  }
 ],
 "metadata": {
  "kernelspec": {
   "display_name": "Python 3 (ipykernel)",
   "language": "python",
   "name": "python3"
  },
  "language_info": {
   "codemirror_mode": {
    "name": "ipython",
    "version": 3
   },
   "file_extension": ".py",
   "mimetype": "text/x-python",
   "name": "python",
   "nbconvert_exporter": "python",
   "pygments_lexer": "ipython3",
   "version": "3.11.3"
  }
 },
 "nbformat": 4,
 "nbformat_minor": 5
}
