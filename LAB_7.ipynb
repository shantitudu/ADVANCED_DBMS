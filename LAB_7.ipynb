{
 "cells": [
  {
   "cell_type": "code",
   "execution_count": null,
   "id": "3af7dcac",
   "metadata": {},
   "outputs": [],
   "source": [
    "import mysql.connector\n",
    "import time"
   ]
  },
  {
   "cell_type": "code",
   "execution_count": null,
   "id": "62750e8c",
   "metadata": {},
   "outputs": [],
   "source": [
    "cnx = mysql.connector.connect(user='root', password='', host='localhost', database='LAB1')"
   ]
  },
  {
   "cell_type": "code",
   "execution_count": null,
   "id": "4c1412b1",
   "metadata": {},
   "outputs": [],
   "source": [
    "cur = cnx.cursor()"
   ]
  },
  {
   "cell_type": "code",
   "execution_count": 6,
   "id": "84c54b04",
   "metadata": {},
   "outputs": [],
   "source": [
    "#1 Create a view of instructors without their salary called faculty\n",
    "cur.execute(\"\"\"\n",
    "    CREATE VIEW faculty3 AS\n",
    "    SELECT ID, name, dept_name\n",
    "    FROM instructor;\n",
    "\"\"\")\n",
    "cnx.commit()"
   ]
  },
  {
   "cell_type": "code",
   "execution_count": 7,
   "id": "66c39947",
   "metadata": {},
   "outputs": [],
   "source": [
    "#2 Create a view of department salary totals\n",
    "cur.execute(\"\"\"\n",
    "    CREATE VIEW dept_salary_totals AS\n",
    "    SELECT dept_name, SUM(salary) AS total_salary\n",
    "    FROM instructor\n",
    "    GROUP BY dept_name;\n",
    "\"\"\")\n",
    "cnx.commit()"
   ]
  },
  {
   "cell_type": "code",
   "execution_count": 21,
   "id": "5f6d600f",
   "metadata": {},
   "outputs": [],
   "source": [
    "#3 Create a role of student\n",
    "cur.execute(\"CREATE ROLE 'STUDENT'\")\n",
    "cnx.commit()"
   ]
  },
  {
   "cell_type": "code",
   "execution_count": 22,
   "id": "04e3fdd5",
   "metadata": {},
   "outputs": [],
   "source": [
    "#4 Grant SELECT privileges on the view faculty to the role student\n",
    "cur.execute(\"GRANT SELECT ON faculty3 TO 'STUDENT'\")\n",
    "cnx.commit()"
   ]
  },
  {
   "cell_type": "code",
   "execution_count": 24,
   "id": "77638187",
   "metadata": {},
   "outputs": [],
   "source": [
    "#5 Create a new user and assign her the role of student\n",
    "cur.execute(\"CREATE USER 'SHANTI@localhost' IDENTIFIED BY 'shanti'\")\n",
    "cnx.commit()\n",
    "cur.execute(\"GRANT 'STUDENT' TO 'SHANTI@localhost'\")\n",
    "cnx.commit()"
   ]
  },
  {
   "cell_type": "code",
   "execution_count": 28,
   "id": "8a6ab330",
   "metadata": {},
   "outputs": [],
   "source": [
    "#6 Revoke privileges of the new user\n",
    "cur.execute(\"REVOKE ALL PRIVILEGES ON *.* FROM 'SHANTI@localhost'\")\n",
    "cnx.commit()"
   ]
  },
  {
   "cell_type": "code",
   "execution_count": 30,
   "id": "6514caf7",
   "metadata": {},
   "outputs": [],
   "source": [
    "#7 Remove the role of student\n",
    "cur.execute(\"DROP ROLE 'STUDENT'\")\n",
    "cnx.commit()"
   ]
  },
  {
   "cell_type": "code",
   "execution_count": 31,
   "id": "42677fef",
   "metadata": {},
   "outputs": [],
   "source": [
    "#8 Give SELECT privileges on the view faculty to the new user\n",
    "cur.execute(\"GRANT SELECT ON faculty3 TO 'SHANTI@localhost'\")\n",
    "cnx.commit()"
   ]
  },
  {
   "cell_type": "code",
   "execution_count": 38,
   "id": "4f7cea4b",
   "metadata": {},
   "outputs": [],
   "source": [
    "#9 Create a table teaches2 with the same columns as teaches but with an additional constraint that\n",
    "# the semester is one of fall, winter, spring, or summer\n",
    "cur.execute(\"\"\"\n",
    "    CREATE TABLE teaches9 AS \n",
    "    SELECT ID,Course_id,sec,semester,year\n",
    "    FROM teaches\n",
    "    WHERE(semester IN('Fall','Winter','Spring', 'Summer')\n",
    "    );\n",
    "\"\"\")\n",
    "cnx.commit()"
   ]
  },
  {
   "cell_type": "code",
   "execution_count": null,
   "id": "c2f7ba30",
   "metadata": {},
   "outputs": [],
   "source": [
    "#10 Create index ID column of the teaches.Compare the difference in time to obtain query results\n",
    "#with or without index.\n",
    "cur.execute(\"CREATE INDEX index_ID ON teaches(ID);\")\n",
    "cnx.commit()"
   ]
  },
  {
   "cell_type": "code",
   "execution_count": null,
   "id": "0203cb46",
   "metadata": {},
   "outputs": [],
   "source": [
    "start = timeit.timeit()\n",
    "cur.execute(\"SELECT * FROM teaches WHERE ID = '12345';\")\n",
    "result=cur.fetchall()\n",
    "end = timeit.timeit()\n",
    "print(\"Time taken is\",end - start)"
   ]
  },
  {
   "cell_type": "code",
   "execution_count": null,
   "id": "8108c418",
   "metadata": {},
   "outputs": [],
   "source": [
    "#11 drop the index to free up the space.\n",
    "cur.execute(\"DROP INDEX index_ID ON teaches;\")\n",
    "cnx.commit()"
   ]
  },
  {
   "cell_type": "code",
   "execution_count": null,
   "id": "683ce156",
   "metadata": {},
   "outputs": [],
   "source": []
  }
 ],
 "metadata": {
  "kernelspec": {
   "display_name": "Python 3 (ipykernel)",
   "language": "python",
   "name": "python3"
  },
  "language_info": {
   "codemirror_mode": {
    "name": "ipython",
    "version": 3
   },
   "file_extension": ".py",
   "mimetype": "text/x-python",
   "name": "python",
   "nbconvert_exporter": "python",
   "pygments_lexer": "ipython3",
   "version": "3.11.3"
  }
 },
 "nbformat": 4,
 "nbformat_minor": 5
}
