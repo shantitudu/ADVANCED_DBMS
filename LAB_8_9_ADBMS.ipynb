{
 "cells": [
  {
   "cell_type": "code",
   "execution_count": 1,
   "id": "1f9b0db4",
   "metadata": {},
   "outputs": [],
   "source": [
    "import mysql.connector"
   ]
  },
  {
   "cell_type": "code",
   "execution_count": 2,
   "id": "65066251",
   "metadata": {},
   "outputs": [],
   "source": [
    "cnx = mysql.connector.connect(user='root', password='', host='localhost', database='LAB1')"
   ]
  },
  {
   "cell_type": "code",
   "execution_count": 3,
   "id": "6093437b",
   "metadata": {},
   "outputs": [],
   "source": [
    "cur = cnx.cursor(buffered=True)"
   ]
  },
  {
   "cell_type": "code",
   "execution_count": 7,
   "id": "1d14104f",
   "metadata": {},
   "outputs": [],
   "source": [
    "# Add columns to the instructor table\n",
    "add_columns_query = \"ALTER TABLE instructor10 ADD COLUMN monthly_salary DECIMAL(10,2), ADD COLUMN exemptions DECIMAL(10,2), ADD COLUMN taxes DECIMAL(10,2), ADD COLUMN gross_salary DECIMAL(10,2)\"\n",
    "cur.execute(add_columns_query)"
   ]
  },
  {
   "cell_type": "code",
   "execution_count": 8,
   "id": "33677f1d",
   "metadata": {},
   "outputs": [],
   "source": [
    "cnx.commit()"
   ]
  },
  {
   "cell_type": "code",
   "execution_count": 9,
   "id": "e5645b5e",
   "metadata": {},
   "outputs": [],
   "source": [
    "# Update the new columns with calculated values\n",
    "cur.execute(\"SELECT * FROM instructor10\")\n",
    "results = cur.fetchall()\n"
   ]
  },
  {
   "cell_type": "code",
   "execution_count": 10,
   "id": "085186a5",
   "metadata": {},
   "outputs": [],
   "source": [
    "for result in results:\n",
    "  salary = result[3]\n",
    "  exemptions = salary * 0.1\n",
    "  taxes = salary * 0.2\n",
    "  monthly_salary = salary / 12\n",
    "  gross_salary = salary - exemptions - taxes"
   ]
  },
  {
   "cell_type": "code",
   "execution_count": 11,
   "id": "c052113b",
   "metadata": {},
   "outputs": [],
   "source": [
    " update_query = \"UPDATE instructor SET monthly_salary=%s, exemptions=%s, taxes=%s, gross_salary=%s WHERE ID=%s\""
   ]
  },
  {
   "cell_type": "code",
   "execution_count": 12,
   "id": "071e9d23",
   "metadata": {},
   "outputs": [],
   "source": [
    "values = (monthly_salary, exemptions, taxes, gross_salary, result[0])"
   ]
  },
  {
   "cell_type": "code",
   "execution_count": 13,
   "id": "38005d83",
   "metadata": {},
   "outputs": [],
   "source": [
    "cur.execute(update_query, values)"
   ]
  },
  {
   "cell_type": "code",
   "execution_count": 14,
   "id": "0d4dd2bb",
   "metadata": {},
   "outputs": [],
   "source": [
    "cnx.commit()"
   ]
  },
  {
   "cell_type": "code",
   "execution_count": 15,
   "id": "b95ddb90",
   "metadata": {},
   "outputs": [
    {
     "data": {
      "text/plain": [
       "True"
      ]
     },
     "execution_count": 15,
     "metadata": {},
     "output_type": "execute_result"
    }
   ],
   "source": [
    "cur.close()"
   ]
  },
  {
   "cell_type": "code",
   "execution_count": 16,
   "id": "9ace8b7d",
   "metadata": {},
   "outputs": [],
   "source": [
    "cnx.close()"
   ]
  },
  {
   "cell_type": "code",
   "execution_count": null,
   "id": "10657a5c",
   "metadata": {},
   "outputs": [],
   "source": []
  }
 ],
 "metadata": {
  "kernelspec": {
   "display_name": "Python 3 (ipykernel)",
   "language": "python",
   "name": "python3"
  },
  "language_info": {
   "codemirror_mode": {
    "name": "ipython",
    "version": 3
   },
   "file_extension": ".py",
   "mimetype": "text/x-python",
   "name": "python",
   "nbconvert_exporter": "python",
   "pygments_lexer": "ipython3",
   "version": "3.11.3"
  }
 },
 "nbformat": 4,
 "nbformat_minor": 5
}
